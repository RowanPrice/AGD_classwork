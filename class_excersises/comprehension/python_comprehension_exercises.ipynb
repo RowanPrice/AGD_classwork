{
 "cells": [
  {
   "cell_type": "markdown",
   "id": "f5f44608",
   "metadata": {},
   "source": [
    "# Python Comprehension Exercises\n",
    "This worksheet contains intermediate and advanced exercises using **list**, **dictionary**, and **set comprehensions** in Python. Each section includes original tasks and harder variations to challenge your understanding."
   ]
  },
  {
   "cell_type": "markdown",
   "id": "0500a102",
   "metadata": {},
   "source": [
    "## List Comprehension Exercises\n",
    "These exercises focus on creating and manipulating lists using comprehension syntax."
   ]
  },
  {
   "metadata": {},
   "cell_type": "markdown",
   "source": "### Starter Exercises",
   "id": "b047d81be5a6fb30"
  },
  {
   "metadata": {
    "ExecuteTime": {
     "end_time": "2025-09-26T10:19:43.285522Z",
     "start_time": "2025-09-26T10:19:43.282335Z"
    }
   },
   "cell_type": "code",
   "source": [
    "# 1. Create a list of the first 20 square numbers\n",
    "squares = [i**2 for i in range(20)]\n",
    "print(squares)"
   ],
   "id": "89a0d8f56783b0f0",
   "outputs": [
    {
     "name": "stdout",
     "output_type": "stream",
     "text": [
      "[0, 1, 4, 9, 16, 25, 36, 49, 64, 81, 100, 121, 144, 169, 196, 225, 256, 289, 324, 361]\n"
     ]
    }
   ],
   "execution_count": 2
  },
  {
   "metadata": {
    "ExecuteTime": {
     "end_time": "2025-09-26T10:19:45.004248Z",
     "start_time": "2025-09-26T10:19:45.001394Z"
    }
   },
   "cell_type": "code",
   "source": [
    "# 2. Create a list of the first 20 square numbers that are divisible by 3\n",
    "squares = [i**2 for i in range(20) if 1**2 %3 == 0]\n",
    "print(squares)"
   ],
   "id": "910cc1990b4bc4f8",
   "outputs": [
    {
     "name": "stdout",
     "output_type": "stream",
     "text": [
      "[]\n"
     ]
    }
   ],
   "execution_count": 3
  },
  {
   "metadata": {
    "ExecuteTime": {
     "end_time": "2025-09-26T10:19:46.983670Z",
     "start_time": "2025-09-26T10:19:46.979963Z"
    }
   },
   "cell_type": "code",
   "source": [
    "# 3. Create a list representing the lengths of the words in the animals list\n",
    "animals = ['cat', 'elephant', 'rabbit', 'turkey', 'lion']\n",
    "animal_lengths = [len(a) for a in animals]\n",
    "print(animal_lengths)"
   ],
   "id": "6f576fa14ef4ddb2",
   "outputs": [
    {
     "name": "stdout",
     "output_type": "stream",
     "text": [
      "[3, 8, 6, 6, 4]\n"
     ]
    }
   ],
   "execution_count": 4
  },
  {
   "metadata": {},
   "cell_type": "markdown",
   "source": "### Intermediate Exercises",
   "id": "be3e9465"
  },
  {
   "metadata": {
    "ExecuteTime": {
     "end_time": "2025-09-26T10:22:30.343997Z",
     "start_time": "2025-09-26T10:22:30.340514Z"
    }
   },
   "cell_type": "code",
   "source": [
    "# 1. Flatten a Nested List\n",
    "nested = [[1, 2], [3, 4], [5], [6, 7, 8, 9]]\n",
    "flat = [i for nested_list in nested for i in nested_list]\n",
    "print(flat)"
   ],
   "id": "9fb34ba6",
   "outputs": [
    {
     "name": "stdout",
     "output_type": "stream",
     "text": [
      "[1, 2, 3, 4, 5, 6, 7, 8, 9]\n"
     ]
    }
   ],
   "execution_count": 8
  },
  {
   "metadata": {
    "ExecuteTime": {
     "end_time": "2025-09-26T10:22:43.654591Z",
     "start_time": "2025-09-26T10:22:43.650476Z"
    }
   },
   "cell_type": "code",
   "source": [
    "# 2. Generate a List of Tuples (Number, Square, Cube) for numbers 1 to 10\n",
    "result = [(i,i**2,i**3) for i in range(10)]\n",
    "print(result)"
   ],
   "id": "c50f1143",
   "outputs": [
    {
     "name": "stdout",
     "output_type": "stream",
     "text": [
      "[(0, 0, 0), (1, 1, 1), (2, 4, 8), (3, 9, 27), (4, 16, 64), (5, 25, 125), (6, 36, 216), (7, 49, 343), (8, 64, 512), (9, 81, 729)]\n"
     ]
    }
   ],
   "execution_count": 9
  },
  {
   "metadata": {
    "ExecuteTime": {
     "end_time": "2025-09-26T10:23:07.180385Z",
     "start_time": "2025-09-26T10:23:07.176034Z"
    }
   },
   "cell_type": "code",
   "source": [
    "# 3. Generate a List of coordinate pairs (i, j) where i and j are numbers from 1 to 10\n",
    "coordinates = [(i,j) for i in range(10) for j in range(10)]\n",
    "print(coordinates)"
   ],
   "id": "c5655c799dca457a",
   "outputs": [
    {
     "name": "stdout",
     "output_type": "stream",
     "text": [
      "[(0, 0), (0, 1), (0, 2), (0, 3), (0, 4), (0, 5), (0, 6), (0, 7), (0, 8), (0, 9), (1, 0), (1, 1), (1, 2), (1, 3), (1, 4), (1, 5), (1, 6), (1, 7), (1, 8), (1, 9), (2, 0), (2, 1), (2, 2), (2, 3), (2, 4), (2, 5), (2, 6), (2, 7), (2, 8), (2, 9), (3, 0), (3, 1), (3, 2), (3, 3), (3, 4), (3, 5), (3, 6), (3, 7), (3, 8), (3, 9), (4, 0), (4, 1), (4, 2), (4, 3), (4, 4), (4, 5), (4, 6), (4, 7), (4, 8), (4, 9), (5, 0), (5, 1), (5, 2), (5, 3), (5, 4), (5, 5), (5, 6), (5, 7), (5, 8), (5, 9), (6, 0), (6, 1), (6, 2), (6, 3), (6, 4), (6, 5), (6, 6), (6, 7), (6, 8), (6, 9), (7, 0), (7, 1), (7, 2), (7, 3), (7, 4), (7, 5), (7, 6), (7, 7), (7, 8), (7, 9), (8, 0), (8, 1), (8, 2), (8, 3), (8, 4), (8, 5), (8, 6), (8, 7), (8, 8), (8, 9), (9, 0), (9, 1), (9, 2), (9, 3), (9, 4), (9, 5), (9, 6), (9, 7), (9, 8), (9, 9)]\n"
     ]
    }
   ],
   "execution_count": 10
  },
  {
   "cell_type": "markdown",
   "id": "a93517b1",
   "metadata": {},
   "source": [
    "### Advanced Variations"
   ]
  },
  {
   "cell_type": "code",
   "id": "5c7faea7",
   "metadata": {
    "ExecuteTime": {
     "end_time": "2025-09-26T11:03:37.815802Z",
     "start_time": "2025-09-26T11:03:21.722775Z"
    }
   },
   "source": [
    "# 1. Generate a List of Pythagorean Triplets (a, b, c) with a + b + c = 1000\n",
    "triplets = [(a,b,c) for a in range(1001) for b in range(a,1001) for c in range(b,1001) if c**2 == (a**2)+(b**2) and a+b+c==1000]\n",
    "print(triplets)"
   ],
   "outputs": [
    {
     "name": "stdout",
     "output_type": "stream",
     "text": [
      "[(0, 500, 500), (200, 375, 425)]\n"
     ]
    }
   ],
   "execution_count": 105
  },
  {
   "cell_type": "markdown",
   "id": "9daf2cd9",
   "metadata": {},
   "source": [
    "## 📘 Dictionary Comprehension Exercises\n",
    "These exercises focus on creating and transforming dictionaries using comprehension syntax."
   ]
  },
  {
   "metadata": {},
   "cell_type": "markdown",
   "source": "### Starter Exercises",
   "id": "b5a42dd8c4703b05"
  },
  {
   "metadata": {
    "ExecuteTime": {
     "end_time": "2025-09-26T10:29:56.491042Z",
     "start_time": "2025-09-26T10:29:56.487625Z"
    }
   },
   "cell_type": "code",
   "source": [
    "# 1. Create a dictionary with the animals names as the key and the lengths of the names as the values\n",
    "animals = ['cat', 'elephant', 'rabbit', 'turkey', 'lion']\n",
    "animal_dictionary = {name:len(name) for name in animals}\n",
    "print(animal_dictionary)"
   ],
   "id": "86baa26bd61ed602",
   "outputs": [
    {
     "name": "stdout",
     "output_type": "stream",
     "text": [
      "{'cat': 3, 'elephant': 8, 'rabbit': 6, 'turkey': 6, 'lion': 4}\n"
     ]
    }
   ],
   "execution_count": 19
  },
  {
   "metadata": {
    "ExecuteTime": {
     "end_time": "2025-09-26T10:37:59.994740Z",
     "start_time": "2025-09-26T10:37:59.990751Z"
    }
   },
   "cell_type": "code",
   "source": [
    "# 2. Create a dictionary where the keys are the numbers 1 to 10 and the values are strings '10' to '1'\n",
    "number_dict = {key:f\"{key}\" for key in range(11) }\n",
    "print(number_dict)"
   ],
   "id": "b22f7b7016ff4c72",
   "outputs": [
    {
     "name": "stdout",
     "output_type": "stream",
     "text": [
      "{0: '0', 1: '1', 2: '2', 3: '3', 4: '4', 5: '5', 6: '6', 7: '7', 8: '8', 9: '9', 10: '10'}\n"
     ]
    }
   ],
   "execution_count": 26
  },
  {
   "metadata": {},
   "cell_type": "markdown",
   "source": "### Intermediate Exercises",
   "id": "9acf027b"
  },
  {
   "metadata": {
    "ExecuteTime": {
     "end_time": "2025-09-26T10:43:00.168778Z",
     "start_time": "2025-09-26T10:43:00.165464Z"
    }
   },
   "cell_type": "code",
   "source": [
    "# 1. Invert a Dictionary so that keys become values and values become keys\n",
    "original = {'a': 1, 'b': 2, 'c': 3}\n",
    "inverted = {values:key for key in original.keys() for key,values in original.items()}\n",
    "print(inverted)"
   ],
   "id": "f2babe14",
   "outputs": [
    {
     "name": "stdout",
     "output_type": "stream",
     "text": [
      "{1: 'a', 2: 'b', 3: 'c'}\n"
     ]
    }
   ],
   "execution_count": 32
  },
  {
   "metadata": {
    "ExecuteTime": {
     "end_time": "2025-09-26T10:46:54.339515Z",
     "start_time": "2025-09-26T10:46:54.336085Z"
    }
   },
   "cell_type": "code",
   "source": [
    "# 2. Count Character Frequency in a String\n",
    "text = \"intermediate comprehension\"\n",
    "freq = {char:text.count(char) for char in text}\n",
    "print(freq)"
   ],
   "id": "145986c9",
   "outputs": [
    {
     "name": "stdout",
     "output_type": "stream",
     "text": [
      "{'i': 3, 'n': 3, 't': 2, 'e': 5, 'r': 2, 'm': 2, 'd': 1, 'a': 1, ' ': 1, 'c': 1, 'o': 2, 'p': 1, 'h': 1, 's': 1}\n"
     ]
    }
   ],
   "execution_count": 36
  },
  {
   "metadata": {
    "ExecuteTime": {
     "end_time": "2025-09-26T10:50:17.581522Z",
     "start_time": "2025-09-26T10:50:17.576190Z"
    }
   },
   "cell_type": "code",
   "source": [
    "# 3. Map Numbers to Their Binary Representation for numbers one to 20 - e.g. {1: '1', 2: '10', ...}\n",
    "# Hint bin(5) gives the string '0b101'\n",
    "binary_map = {num:bin(num)[2:] for num in range(200)}\n",
    "print(binary_map)"
   ],
   "id": "186bf29e",
   "outputs": [
    {
     "name": "stdout",
     "output_type": "stream",
     "text": [
      "{0: '0', 1: '1', 2: '10', 3: '11', 4: '100', 5: '101', 6: '110', 7: '111', 8: '1000', 9: '1001', 10: '1010', 11: '1011', 12: '1100', 13: '1101', 14: '1110', 15: '1111', 16: '10000', 17: '10001', 18: '10010', 19: '10011', 20: '10100', 21: '10101', 22: '10110', 23: '10111', 24: '11000', 25: '11001', 26: '11010', 27: '11011', 28: '11100', 29: '11101', 30: '11110', 31: '11111', 32: '100000', 33: '100001', 34: '100010', 35: '100011', 36: '100100', 37: '100101', 38: '100110', 39: '100111', 40: '101000', 41: '101001', 42: '101010', 43: '101011', 44: '101100', 45: '101101', 46: '101110', 47: '101111', 48: '110000', 49: '110001', 50: '110010', 51: '110011', 52: '110100', 53: '110101', 54: '110110', 55: '110111', 56: '111000', 57: '111001', 58: '111010', 59: '111011', 60: '111100', 61: '111101', 62: '111110', 63: '111111', 64: '1000000', 65: '1000001', 66: '1000010', 67: '1000011', 68: '1000100', 69: '1000101', 70: '1000110', 71: '1000111', 72: '1001000', 73: '1001001', 74: '1001010', 75: '1001011', 76: '1001100', 77: '1001101', 78: '1001110', 79: '1001111', 80: '1010000', 81: '1010001', 82: '1010010', 83: '1010011', 84: '1010100', 85: '1010101', 86: '1010110', 87: '1010111', 88: '1011000', 89: '1011001', 90: '1011010', 91: '1011011', 92: '1011100', 93: '1011101', 94: '1011110', 95: '1011111', 96: '1100000', 97: '1100001', 98: '1100010', 99: '1100011', 100: '1100100', 101: '1100101', 102: '1100110', 103: '1100111', 104: '1101000', 105: '1101001', 106: '1101010', 107: '1101011', 108: '1101100', 109: '1101101', 110: '1101110', 111: '1101111', 112: '1110000', 113: '1110001', 114: '1110010', 115: '1110011', 116: '1110100', 117: '1110101', 118: '1110110', 119: '1110111', 120: '1111000', 121: '1111001', 122: '1111010', 123: '1111011', 124: '1111100', 125: '1111101', 126: '1111110', 127: '1111111', 128: '10000000', 129: '10000001', 130: '10000010', 131: '10000011', 132: '10000100', 133: '10000101', 134: '10000110', 135: '10000111', 136: '10001000', 137: '10001001', 138: '10001010', 139: '10001011', 140: '10001100', 141: '10001101', 142: '10001110', 143: '10001111', 144: '10010000', 145: '10010001', 146: '10010010', 147: '10010011', 148: '10010100', 149: '10010101', 150: '10010110', 151: '10010111', 152: '10011000', 153: '10011001', 154: '10011010', 155: '10011011', 156: '10011100', 157: '10011101', 158: '10011110', 159: '10011111', 160: '10100000', 161: '10100001', 162: '10100010', 163: '10100011', 164: '10100100', 165: '10100101', 166: '10100110', 167: '10100111', 168: '10101000', 169: '10101001', 170: '10101010', 171: '10101011', 172: '10101100', 173: '10101101', 174: '10101110', 175: '10101111', 176: '10110000', 177: '10110001', 178: '10110010', 179: '10110011', 180: '10110100', 181: '10110101', 182: '10110110', 183: '10110111', 184: '10111000', 185: '10111001', 186: '10111010', 187: '10111011', 188: '10111100', 189: '10111101', 190: '10111110', 191: '10111111', 192: '11000000', 193: '11000001', 194: '11000010', 195: '11000011', 196: '11000100', 197: '11000101', 198: '11000110', 199: '11000111'}\n"
     ]
    }
   ],
   "execution_count": 40
  },
  {
   "metadata": {},
   "cell_type": "markdown",
   "source": "### Advanced Variations",
   "id": "7d75e2f8"
  },
  {
   "metadata": {
    "ExecuteTime": {
     "end_time": "2025-09-26T10:44:52.409722Z",
     "start_time": "2025-09-26T10:44:52.405827Z"
    }
   },
   "cell_type": "code",
   "source": [
    "# 1. Group Words by Their Length - e.g. {3: ['fig'], 5: ['apple', 'peach', 'grape'] , ...}\n",
    "words = [\"apple\", \"banana\", \"cherry\", \"peach\", \"fig\", \"grape\"]\n",
    "grouped = {length: [word for word in words if len(word) == length] for length in set(map(len, words))}\n",
    "print(grouped)"
   ],
   "id": "77213365",
   "outputs": [
    {
     "name": "stdout",
     "output_type": "stream",
     "text": [
      "{3: ['fig'], 5: ['apple', 'peach', 'grape'], 6: ['banana', 'cherry'], 7: ['trobbio']}\n"
     ]
    }
   ],
   "execution_count": 34
  },
  {
   "cell_type": "markdown",
   "id": "fb967ace",
   "metadata": {},
   "source": [
    "## 🧮 Set Comprehension Exercises\n",
    "These exercises focus on extracting and manipulating sets using comprehension syntax."
   ]
  },
  {
   "metadata": {},
   "cell_type": "markdown",
   "source": "### Starter Exercises",
   "id": "b9d9dab14bf4a86f"
  },
  {
   "metadata": {
    "ExecuteTime": {
     "end_time": "2025-09-26T10:58:09.844530Z",
     "start_time": "2025-09-26T10:58:09.841333Z"
    }
   },
   "cell_type": "code",
   "source": [
    "# 1. Extract the set of characters from this word using a list comprehension\n",
    "# Note that this is equivalent to set(word)\n",
    "word = 'abracadabra'\n",
    "letters = set(word)\n",
    "print(letters)"
   ],
   "id": "7dfc90f55c3df880",
   "outputs": [
    {
     "name": "stdout",
     "output_type": "stream",
     "text": [
      "{'c', 'd', 'b', 'r', 'a'}\n"
     ]
    }
   ],
   "execution_count": 97
  },
  {
   "metadata": {
    "ExecuteTime": {
     "end_time": "2025-09-26T10:53:10.719436Z",
     "start_time": "2025-09-26T10:53:10.714655Z"
    }
   },
   "cell_type": "code",
   "source": [
    "# 2. Extract the set of even numbers from the numbers in the list\n",
    "numbers = [6, 4, 2, 3, 5, 4, 6, 8, 2, 5, 7]\n",
    "even_number_set = {num for num in numbers if num %2 ==0}\n",
    "print(even_number_set)"
   ],
   "id": "5145df1f4b10d85f",
   "outputs": [
    {
     "name": "stdout",
     "output_type": "stream",
     "text": [
      "{8, 2, 4, 6}\n"
     ]
    }
   ],
   "execution_count": 43
  },
  {
   "metadata": {},
   "cell_type": "markdown",
   "source": "### Intermediate Exercises",
   "id": "78a2fe2a"
  },
  {
   "metadata": {
    "ExecuteTime": {
     "end_time": "2025-09-26T10:55:35.609020Z",
     "start_time": "2025-09-26T10:55:35.604178Z"
    }
   },
   "cell_type": "code",
   "source": [
    "# 1. Extract Unique Vowels from a Sentence\n",
    "sentence = \"Python comprehensions are powerful\"\n",
    "vowels = {char for char in sentence if char in 'aeiou'}\n",
    "print(vowels)"
   ],
   "id": "b4a25eb6",
   "outputs": [
    {
     "name": "stdout",
     "output_type": "stream",
     "text": [
      "{'e', 'u', 'a', 'o', 'i'}\n"
     ]
    }
   ],
   "execution_count": 45
  },
  {
   "metadata": {
    "ExecuteTime": {
     "end_time": "2025-09-26T10:57:20.807662Z",
     "start_time": "2025-09-26T10:57:20.803715Z"
    }
   },
   "cell_type": "code",
   "source": [
    "# 2. Find Common Elements in Two Lists using a list comprehension\n",
    "# Note that set(a) & set(b) will also achieve this\n",
    "a = [1, 2, 3, 4, 5]\n",
    "b = [4, 5, 6, 7]\n",
    "common = set(a) & set(b)\n",
    "print(common)"
   ],
   "id": "4839dffb",
   "outputs": [
    {
     "name": "stdout",
     "output_type": "stream",
     "text": [
      "{4, 5}\n"
     ]
    }
   ],
   "execution_count": 49
  },
  {
   "metadata": {},
   "cell_type": "markdown",
   "source": "### Advanced Variations",
   "id": "cdb058fc"
  },
  {
   "metadata": {
    "ExecuteTime": {
     "end_time": "2025-09-26T11:00:09.334056Z",
     "start_time": "2025-09-26T11:00:09.331002Z"
    }
   },
   "cell_type": "code",
   "source": [
    "# 3. Find All Unique Characters That Appear More Than Once in a String\n",
    "s = \"comprehension_challenge\"\n",
    "repeated = {char for char in s if s.count(char) >= 2 }\n",
    "print(repeated)"
   ],
   "id": "7a0817d1",
   "outputs": [
    {
     "name": "stdout",
     "output_type": "stream",
     "text": [
      "{'c', 'e', 'n', 'o', 'l', 'h'}\n"
     ]
    }
   ],
   "execution_count": 101
  },
  {
   "metadata": {
    "ExecuteTime": {
     "end_time": "2025-09-26T11:01:30.164607Z",
     "start_time": "2025-09-26T11:01:30.160278Z"
    }
   },
   "cell_type": "code",
   "source": [
    "# 1. Find All Unique Words in Two Paragraphs That Are Not Shared\n",
    "# Note that you can do this by using the xor operator (^) on the sets of wor\n",
    "para1 = \"Python is great for data science and machine learning\"\n",
    "para2 = \"JavaScript is great for web development and frontend design\"\n",
    "unique = set(para1.split(\" \")) ^ set(para2.split(\" \"))\n",
    "print(unique)"
   ],
   "id": "89449dd3",
   "outputs": [
    {
     "name": "stdout",
     "output_type": "stream",
     "text": [
      "{'learning', 'development', 'frontend', 'data', 'web', 'design', 'Python', 'science', 'machine', 'JavaScript'}\n"
     ]
    }
   ],
   "execution_count": 103
  }
 ],
 "metadata": {
  "kernelspec": {
   "name": "python3",
   "language": "python",
   "display_name": "Python 3 (ipykernel)"
  }
 },
 "nbformat": 4,
 "nbformat_minor": 5
}
